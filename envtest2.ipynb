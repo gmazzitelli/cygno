{
 "cells": [
  {
   "cell_type": "code",
   "execution_count": 2,
   "metadata": {},
   "outputs": [
    {
     "name": "stdout",
     "output_type": "stream",
     "text": [
      "('/opt/anaconda3/envs/py2/bin/python', ['', '/opt/anaconda3/envs/py2/lib/python27.zip', '/opt/anaconda3/envs/py2/lib/python2.7', '/opt/anaconda3/envs/py2/lib/python2.7/plat-linux2', '/opt/anaconda3/envs/py2/lib/python2.7/lib-tk', '/opt/anaconda3/envs/py2/lib/python2.7/lib-old', '/opt/anaconda3/envs/py2/lib/python2.7/lib-dynload', '/opt/anaconda3/envs/py2/lib/python2.7/site-packages', '/opt/anaconda3/envs/py2/lib/python2.7/site-packages/IPython/extensions', '/home/mazzitel/.ipython'])\n"
     ]
    },
    {
     "ename": "ImportError",
     "evalue": "dynamic module does not define init function (initlibPyROOT)",
     "output_type": "error",
     "traceback": [
      "\u001b[0;31m\u001b[0m",
      "\u001b[0;31mImportError\u001b[0mTraceback (most recent call last)",
      "\u001b[0;32m<ipython-input-2-4a49794c40ea>\u001b[0m in \u001b[0;36m<module>\u001b[0;34m()\u001b[0m\n\u001b[1;32m      4\u001b[0m \u001b[0msys\u001b[0m\u001b[0;34m.\u001b[0m\u001b[0mpath\u001b[0m\u001b[0;34m.\u001b[0m\u001b[0minsert\u001b[0m\u001b[0;34m(\u001b[0m\u001b[0;36m0\u001b[0m\u001b[0;34m,\u001b[0m \u001b[0;34m\"/usr/local/root/build/lib\"\u001b[0m\u001b[0;34m)\u001b[0m\u001b[0;34m\u001b[0m\u001b[0m\n\u001b[1;32m      5\u001b[0m \u001b[0msys\u001b[0m\u001b[0;34m.\u001b[0m\u001b[0mpath\u001b[0m\u001b[0;34m.\u001b[0m\u001b[0minsert\u001b[0m\u001b[0;34m(\u001b[0m\u001b[0;36m0\u001b[0m\u001b[0;34m,\u001b[0m \u001b[0;34m\"/usr/local/root/build/etc/notebook\"\u001b[0m\u001b[0;34m)\u001b[0m\u001b[0;34m\u001b[0m\u001b[0m\n\u001b[0;32m----> 6\u001b[0;31m \u001b[0;32mimport\u001b[0m \u001b[0mROOT\u001b[0m\u001b[0;34m\u001b[0m\u001b[0m\n\u001b[0m",
      "\u001b[0;32m/usr/local/root/build/lib/ROOT.py\u001b[0m in \u001b[0;36m<module>\u001b[0;34m()\u001b[0m\n\u001b[1;32m     22\u001b[0m \u001b[0;31m### system and interpreter setup ------------------------------------------------\u001b[0m\u001b[0;34m\u001b[0m\u001b[0;34m\u001b[0m\u001b[0m\n\u001b[1;32m     23\u001b[0m \u001b[0;32mimport\u001b[0m \u001b[0mos\u001b[0m\u001b[0;34m,\u001b[0m \u001b[0msys\u001b[0m\u001b[0;34m,\u001b[0m \u001b[0mtypes\u001b[0m\u001b[0;34m\u001b[0m\u001b[0m\n\u001b[0;32m---> 24\u001b[0;31m \u001b[0;32mimport\u001b[0m \u001b[0mcppyy\u001b[0m\u001b[0;34m\u001b[0m\u001b[0m\n\u001b[0m\u001b[1;32m     25\u001b[0m \u001b[0;34m\u001b[0m\u001b[0m\n\u001b[1;32m     26\u001b[0m \u001b[0;34m\u001b[0m\u001b[0m\n",
      "\u001b[0;32m/usr/local/root/build/lib/cppyy.py\u001b[0m in \u001b[0;36m<module>\u001b[0;34m()\u001b[0m\n\u001b[1;32m     59\u001b[0m       \u001b[0msys\u001b[0m\u001b[0;34m.\u001b[0m\u001b[0msetdlopenflags\u001b[0m\u001b[0;34m(\u001b[0m \u001b[0;36m0x100\u001b[0m \u001b[0;34m|\u001b[0m \u001b[0;36m0x2\u001b[0m \u001b[0;34m)\u001b[0m    \u001b[0;31m# RTLD_GLOBAL | RTLD_NOW\u001b[0m\u001b[0;34m\u001b[0m\u001b[0m\n\u001b[1;32m     60\u001b[0m \u001b[0;34m\u001b[0m\u001b[0m\n\u001b[0;32m---> 61\u001b[0;31m    \u001b[0;32mimport\u001b[0m \u001b[0mlibPyROOT\u001b[0m \u001b[0;32mas\u001b[0m \u001b[0m_backend\u001b[0m\u001b[0;34m\u001b[0m\u001b[0m\n\u001b[0m\u001b[1;32m     62\u001b[0m \u001b[0;34m\u001b[0m\u001b[0m\n\u001b[1;32m     63\u001b[0m    \u001b[0;31m# reset dl flags if needed\u001b[0m\u001b[0;34m\u001b[0m\u001b[0;34m\u001b[0m\u001b[0m\n",
      "\u001b[0;31mImportError\u001b[0m: dynamic module does not define init function (initlibPyROOT)"
     ]
    }
   ],
   "source": [
    "import sys\n",
    "print (sys.executable, sys.path)\n",
    "sys.path.insert(0, \"/usr/local/root/build\")\n",
    "sys.path.insert(0, \"/usr/local/root/build/lib\")\n",
    "sys.path.insert(0, \"/usr/local/root/build/etc/notebook\")\n",
    "import ROOT"
   ]
  },
  {
   "cell_type": "code",
   "execution_count": 2,
   "metadata": {},
   "outputs": [
    {
     "data": {
      "text/plain": [
       "{'CLICOLOR': '1',\n",
       " 'GIT_PAGER': 'cat',\n",
       " 'HOME': '/home/mazzitel',\n",
       " 'JPY_API_TOKEN': '2340fa8db8e840d19923742ebc136e57',\n",
       " 'JPY_PARENT_PID': '3621',\n",
       " 'JUPYTERHUB_API_TOKEN': '2340fa8db8e840d19923742ebc136e57',\n",
       " 'JUPYTERHUB_API_URL': 'http://127.0.0.1:8081/hub/api',\n",
       " 'JUPYTERHUB_BASE_URL': '/',\n",
       " 'JUPYTERHUB_CLIENT_ID': 'jupyterhub-user-mazzitel',\n",
       " 'JUPYTERHUB_HOST': '',\n",
       " 'JUPYTERHUB_OAUTH_CALLBACK_URL': '/user/mazzitel/oauth_callback',\n",
       " 'JUPYTERHUB_SERVICE_PREFIX': '/user/mazzitel/',\n",
       " 'JUPYTERHUB_USER': 'mazzitel',\n",
       " 'LANG': 'en_US.UTF-8',\n",
       " 'MPLBACKEND': 'module://ipykernel.pylab.backend_inline',\n",
       " 'PAGER': 'cat',\n",
       " 'PATH': '/opt/anaconda3/bin:/opt/anaconda3/bin:/usr/local/root/build/bin:/usr/local/sbin:/sbin:/bin:/usr/sbin:/usr/bin:/root/bin',\n",
       " 'SHELL': '/bin/bash',\n",
       " 'TERM': 'xterm-color',\n",
       " 'USER': 'mazzitel'}"
      ]
     },
     "execution_count": 2,
     "metadata": {},
     "output_type": "execute_result"
    }
   ],
   "source": [
    "env"
   ]
  },
  {
   "cell_type": "code",
   "execution_count": 5,
   "metadata": {},
   "outputs": [],
   "source": [
    "import os\n",
    "os.environ['ROOTSYS'] = '/usr/local/root/build'\n",
    "os.environ['MANPATH'] = '/usr/local/root/build/man:/opt/anaconda3/man:/usr/share/man'\n",
    "os.environ['LD_LIBRARY_PATH']= '/usr/local/root/build/lib'\n",
    "os.environ['LIBPATH']= '/usr/local/root/build/lib'\n",
    "os.environ['JUPYTER_PATH']= '/usr/local/root/build/etc/notebook'\n",
    "#os.environ['ROOTSYS'] =/usr/local/root/build/bin:/opt/anaconda3/bin:/usr/local/bin:/usr/bin:/usr/local/sbin:/usr/sbin:/home/mazzitel/.local/bin:/home/mazzitel/bin\n",
    "os.environ['DYLD_LIBRARY_PATH']= '/usr/local/root/build/lib'\n",
    "os.environ['PYTHONPATH']= '/usr/local/root/build/lib'\n",
    "os.environ['SHLIB_PATH']= '/usr/local/root/build/lib'\n",
    "os.environ['CMAKE_PREFIX_PATH']= '/usr/local/root/build'"
   ]
  },
  {
   "cell_type": "code",
   "execution_count": 6,
   "metadata": {},
   "outputs": [
    {
     "data": {
      "text/plain": [
       "{'CLICOLOR': '1',\n",
       " 'CMAKE_PREFIX_PATH': '/usr/local/root/build',\n",
       " 'DYLD_LIBRARY_PATH': '/usr/local/root/build/lib',\n",
       " 'GIT_PAGER': 'cat',\n",
       " 'HOME': '/home/mazzitel',\n",
       " 'JPY_API_TOKEN': '2340fa8db8e840d19923742ebc136e57',\n",
       " 'JPY_PARENT_PID': '3621',\n",
       " 'JUPYTERHUB_API_TOKEN': '2340fa8db8e840d19923742ebc136e57',\n",
       " 'JUPYTERHUB_API_URL': 'http://127.0.0.1:8081/hub/api',\n",
       " 'JUPYTERHUB_BASE_URL': '/',\n",
       " 'JUPYTERHUB_CLIENT_ID': 'jupyterhub-user-mazzitel',\n",
       " 'JUPYTERHUB_HOST': '',\n",
       " 'JUPYTERHUB_OAUTH_CALLBACK_URL': '/user/mazzitel/oauth_callback',\n",
       " 'JUPYTERHUB_SERVICE_PREFIX': '/user/mazzitel/',\n",
       " 'JUPYTERHUB_USER': 'mazzitel',\n",
       " 'JUPYTER_PATH': '/usr/local/root/build/etc/notebook',\n",
       " 'LANG': 'en_US.UTF-8',\n",
       " 'LD_LIBRARY_PATH': '/usr/local/root/build/lib',\n",
       " 'LIBPATH': '/usr/local/root/build/lib',\n",
       " 'MANPATH': '/usr/local/root/build/man:/opt/anaconda3/man:/usr/share/man',\n",
       " 'MPLBACKEND': 'module://ipykernel.pylab.backend_inline',\n",
       " 'PAGER': 'cat',\n",
       " 'PATH': '/opt/anaconda3/bin:/opt/anaconda3/bin:/usr/local/root/build/bin:/usr/local/sbin:/sbin:/bin:/usr/sbin:/usr/bin:/root/bin',\n",
       " 'PYTHONPATH': '/usr/local/root/build/lib',\n",
       " 'ROOTSYS': '/usr/local/root/build',\n",
       " 'SHELL': '/bin/bash',\n",
       " 'SHLIB_PATH': '/usr/local/root/build/lib',\n",
       " 'TERM': 'xterm-color',\n",
       " 'USER': 'mazzitel'}"
      ]
     },
     "execution_count": 6,
     "metadata": {},
     "output_type": "execute_result"
    }
   ],
   "source": [
    "env"
   ]
  },
  {
   "cell_type": "code",
   "execution_count": 7,
   "metadata": {},
   "outputs": [
    {
     "ename": "ImportError",
     "evalue": "No module named ROOT",
     "output_type": "error",
     "traceback": [
      "\u001b[0;31m\u001b[0m",
      "\u001b[0;31mImportError\u001b[0mTraceback (most recent call last)",
      "\u001b[0;32m<ipython-input-7-ee8dc4376aa8>\u001b[0m in \u001b[0;36m<module>\u001b[0;34m()\u001b[0m\n\u001b[0;32m----> 1\u001b[0;31m \u001b[0;32mimport\u001b[0m \u001b[0mROOT\u001b[0m\u001b[0;34m\u001b[0m\u001b[0m\n\u001b[0m",
      "\u001b[0;31mImportError\u001b[0m: No module named ROOT"
     ]
    }
   ],
   "source": [
    "import ROOT"
   ]
  },
  {
   "cell_type": "code",
   "execution_count": null,
   "metadata": {},
   "outputs": [],
   "source": []
  }
 ],
 "metadata": {
  "kernelspec": {
   "display_name": "Python 2",
   "language": "python",
   "name": "python2"
  },
  "language_info": {
   "codemirror_mode": {
    "name": "ipython",
    "version": 2
   },
   "file_extension": ".py",
   "mimetype": "text/x-python",
   "name": "python",
   "nbconvert_exporter": "python",
   "pygments_lexer": "ipython2",
   "version": "2.7.15"
  }
 },
 "nbformat": 4,
 "nbformat_minor": 2
}
