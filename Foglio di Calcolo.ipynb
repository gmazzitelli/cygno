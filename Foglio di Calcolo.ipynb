{
 "cells": [
  {
   "cell_type": "markdown",
   "metadata": {},
   "source": [
    "# Foglio di Calcolo"
   ]
  },
  {
   "cell_type": "code",
   "execution_count": 35,
   "metadata": {},
   "outputs": [],
   "source": [
    "import numpy as np\n",
    "import pandas as pd\n",
    "import cygnus_lib as cy\n",
    "import mylib as my\n",
    "import matplotlib.pyplot as plt\n",
    "\n",
    "def geo_image(d0):\n",
    "    do_plot = False\n",
    "    # input distance in cm\n",
    "    # return Magnificatio, Image Size and Omega for a given distance of the camera\n",
    "    # output Magnificatio, Image Size and omega\n",
    "    a = 0.95        #diaframma\n",
    "    d = d0/2.5 - 1   #demagnificazione\n",
    "    s = (d*1.33)\n",
    "    omega = 1/((4*d+1)*a)**2 #light collected\n",
    "    if (do_plot):\n",
    "        print ('Omega: %.2e' % omega)\n",
    "        print ('Magnification: %.2e' % d)\n",
    "        print ('Image Size: %.2e cm' % s)\n",
    "    return d, s, omega\n",
    "def v_drift6040(kv):\n",
    "    do_plot = False\n",
    "    # input kv/cm\n",
    "    # return drift velocity cm/mus for a given kv/cm\n",
    "    # output cm/mus\n",
    "\n",
    "    kVcm = [0.0, 0.5, 1.0, 1.5, 2.0, 2.5, 3.0, 3.5, 4.0, 4.5, 5.0]\n",
    "    vDrift6040 = [0.00, 4.06, 6.12, 7.42, 8.30, 8.84, 9.08, 9.06, 8.84, 8.49, 8.11]\n",
    "    x = kVcm\n",
    "    y = vDrift6040\n",
    "    par = np.polyfit(x, y, 4)\n",
    "    ffit = np.poly1d(par)\n",
    "    if (do_plot):\n",
    "        print (\"fit par\", par)\n",
    "        my.set_atlas_style()  \n",
    "        fig, ax = plt.subplots()\n",
    "        ax.set_xlabel(r'drift field [kV]')\n",
    "        ax.set_ylabel(r'V$_{drift}$ [cm/$\\mu$s]')\n",
    "        kv1 = 0.357 # 8150-1020=7130    / 20 = 356,5 Volt/cm\n",
    "        kv1 = 0.300\n",
    "        kv2 = 0.565 # 1020 - 455 = 565\n",
    "        kv2 = 0.450\n",
    "        kv3 = 0.600 # 15000-3000 =12000 / 20 = 600 Volt/cm \n",
    "        kv4 = 0.835 # 3000 - 455*3 - 400*2 = 835\n",
    "        kv4 = 1.0\n",
    "    \n",
    "\n",
    "\n",
    "\n",
    "        ax.plot(x, ffit(x), '--k') \n",
    "        print (r'V$_drif$ of %.2fkV/cmm = %.2f cm/$\\mu$s' % (kv, ffit(kv)))\n",
    "        print ('%.2f' % (ffit(kv3)/ffit(kv2)))\n",
    "        ax.plot(x, y, 'r.', markersize=20, label=((r'V$_{drift}$ HeCF$_4$ %s'+\n",
    "                                               '\\n'+'%.2fkV/cm = %.2f cm/$\\mu$s'+\n",
    "                                               '\\n'+'%.2fkV/cm = %.2f cm/$\\mu$s'+\n",
    "                                               '\\n'+'%.2fkV/cm = %.2f cm/$\\mu$s'+\n",
    "                                               '\\n'+'%.2fkV/cm = %.2f cm/$\\mu$s') % \n",
    "                ( \"60/40\", kv1, ffit(kv1), \n",
    "                 kv2, ffit(kv2), \n",
    "                 kv3, ffit(kv3),\n",
    "                 kv4, ffit(kv4)\n",
    "                )))\n",
    "        \n",
    "        ax.legend(loc=4)\n",
    "        plt.minorticks_on()\n",
    "        plt.show()\n",
    "    return ffit(kv)"
   ]
  },
  {
   "cell_type": "code",
   "execution_count": 36,
   "metadata": {},
   "outputs": [
    {
     "name": "stdout",
     "output_type": "stream",
     "text": [
      "(7.800000000000001, 10.374000000000002, 0.0010686636713448843) (18.6, 24.738000000000003, 0.0001948992184911647) (25.0, 33.25, 0.00010862006087611314)\n",
      "4.358547356643349\n"
     ]
    },
    {
     "data": {
      "text/html": [
       "<div>\n",
       "<style scoped>\n",
       "    .dataframe tbody tr th:only-of-type {\n",
       "        vertical-align: middle;\n",
       "    }\n",
       "\n",
       "    .dataframe tbody tr th {\n",
       "        vertical-align: top;\n",
       "    }\n",
       "\n",
       "    .dataframe thead th {\n",
       "        text-align: right;\n",
       "    }\n",
       "</style>\n",
       "<table border=\"1\" class=\"dataframe\">\n",
       "  <thead>\n",
       "    <tr style=\"text-align: right;\">\n",
       "      <th></th>\n",
       "      <th>Magnification</th>\n",
       "      <th>Image Size</th>\n",
       "      <th>Omega</th>\n",
       "      <th>Vdrift</th>\n",
       "    </tr>\n",
       "  </thead>\n",
       "  <tbody>\n",
       "    <tr>\n",
       "      <th>ORANGE</th>\n",
       "      <td>-0.087741</td>\n",
       "      <td>1.958589</td>\n",
       "      <td>0.000506</td>\n",
       "      <td>0.970594</td>\n",
       "    </tr>\n",
       "    <tr>\n",
       "      <th>LEONON</th>\n",
       "      <td>0.810379</td>\n",
       "      <td>-2.643880</td>\n",
       "      <td>-1.288403</td>\n",
       "      <td>-0.463575</td>\n",
       "    </tr>\n",
       "    <tr>\n",
       "      <th>LIME</th>\n",
       "      <td>-0.341440</td>\n",
       "      <td>-0.361880</td>\n",
       "      <td>0.325517</td>\n",
       "      <td>-0.579084</td>\n",
       "    </tr>\n",
       "    <tr>\n",
       "      <th>MANGO</th>\n",
       "      <td>0.000452</td>\n",
       "      <td>0.478638</td>\n",
       "      <td>-1.494618</td>\n",
       "      <td>1.416601</td>\n",
       "    </tr>\n",
       "  </tbody>\n",
       "</table>\n",
       "</div>"
      ],
      "text/plain": [
       "        Magnification  Image Size     Omega    Vdrift\n",
       "ORANGE      -0.087741    1.958589  0.000506  0.970594\n",
       "LEONON       0.810379   -2.643880 -1.288403 -0.463575\n",
       "LIME        -0.341440   -0.361880  0.325517 -0.579084\n",
       "MANGO        0.000452    0.478638 -1.494618  1.416601"
      ]
     },
     "execution_count": 36,
     "metadata": {},
     "output_type": "execute_result"
    }
   ],
   "source": [
    "print (geo_image(22), geo_image(49), geo_image(65))\n",
    "print (v_drift6040(0.6))\n",
    "df = pd.DataFrame(np.random.randn(4,4),\n",
    "                  index=[\"ORANGE\", \"LEONON\", \"LIME\", \"MANGO\"],\n",
    "                  columns=[\"Magnification\", \"Image Size\", \"Omega\", \"Vdrift\"])\n",
    "df"
   ]
  },
  {
   "cell_type": "code",
   "execution_count": 37,
   "metadata": {},
   "outputs": [
    {
     "data": {
      "text/plain": [
       "(24.839999999999996, 33.0372, 0.00011000982761353968)"
      ]
     },
     "execution_count": 37,
     "metadata": {},
     "output_type": "execute_result"
    }
   ],
   "source": [
    "geo_image(64.6)"
   ]
  },
  {
   "cell_type": "markdown",
   "metadata": {},
   "source": [
    "# passagio particelle per la materia"
   ]
  },
  {
   "cell_type": "code",
   "execution_count": 38,
   "metadata": {},
   "outputs": [
    {
     "name": "stdout",
     "output_type": "stream",
     "text": [
      "74.5 g/cm^2\n",
      "9.24 g/cm^2\n"
     ]
    }
   ],
   "source": [
    "A = 4.\n",
    "Z = 2.\n",
    "Density_He = 0.1786/1000 #g/cm^3\n",
    "Lrad_He = 74.5\n",
    "#Lrad_He = 716.4*A/(Z*(Z+1)*np.log(287.0/np.sqrt(Z))) # nel caso dell'elio puo' essere sbagliata del 5% vedi Leo\n",
    "print (Lrad_He, 'g/cm^2')\n",
    "# CF4 e proprieta https://www.slac.stanford.edu/pubs/icfa/summer98/paper3/paper3.pdf\n",
    "A = 88\n",
    "Z = 42\n",
    "Density_CF4 = 3.93/1000 #g/cm^3\n",
    "Lrad_CF4 = 9.24\n",
    "#Lrad_CF4 = 716.4*A/(Z*(Z+1)*np.log(287.0/np.sqrt(Z))) # in questo caso e' corretta\n",
    "print (Lrad_CF4, 'g/cm^2')\n"
   ]
  },
  {
   "cell_type": "code",
   "execution_count": 39,
   "metadata": {},
   "outputs": [
    {
     "name": "stdout",
     "output_type": "stream",
     "text": [
      "9.78712499593071 g/cm^2; average density:  0.0016791600000000003 g/cm^3\n"
     ]
    }
   ],
   "source": [
    "# composition of materials https://cds.cern.ch/record/1279627/files/PH-EP-Tech-Note-2010-013.pdf\n",
    "p_He  = 0.60*Density_He\n",
    "p_CF4 = 0.40*Density_CF4\n",
    "x0    = (p_He+p_CF4)/(p_He/Lrad_He + p_CF4/Lrad_CF4)\n",
    "print (x0, 'g/cm^2;', 'average density: ', (p_He+p_CF4), 'g/cm^3')"
   ]
  },
  {
   "cell_type": "code",
   "execution_count": 40,
   "metadata": {},
   "outputs": [
    {
     "name": "stdout",
     "output_type": "stream",
     "text": [
      "mip: 3.1904040000000005 keV/cm\n",
      "mip: 0.05104646400000001 keV/pixel\n"
     ]
    }
   ],
   "source": [
    "# perdita energia di una mip nella miscela\n",
    "Emip = 1.9*(p_He+p_CF4) # 2.1 MeV/cm per mu in He gas \n",
    "Pix_cm = 10/0.160\n",
    "print ('mip:',Emip*1000, 'keV/cm')\n",
    "print ('mip:', Emip*1000/Pix_cm, 'keV/pixel')"
   ]
  },
  {
   "cell_type": "code",
   "execution_count": 41,
   "metadata": {},
   "outputs": [
    {
     "name": "stdout",
     "output_type": "stream",
     "text": [
      "e- garfield: 2.3000000000000003 keV/cm\n",
      "e- garfield: 0.0368 keV/pixel\n"
     ]
    }
   ],
   "source": [
    "print('e- garfield:', 0.23*10, 'keV/cm')\n",
    "print('e- garfield:', 0.23*0.160, 'keV/pixel')"
   ]
  },
  {
   "cell_type": "code",
   "execution_count": null,
   "metadata": {},
   "outputs": [],
   "source": []
  }
 ],
 "metadata": {
  "kernelspec": {
   "display_name": "Python 3",
   "language": "python",
   "name": "python3"
  },
  "language_info": {
   "codemirror_mode": {
    "name": "ipython",
    "version": 3
   },
   "file_extension": ".py",
   "mimetype": "text/x-python",
   "name": "python",
   "nbconvert_exporter": "python",
   "pygments_lexer": "ipython3",
   "version": "3.6.8"
  }
 },
 "nbformat": 4,
 "nbformat_minor": 2
}
