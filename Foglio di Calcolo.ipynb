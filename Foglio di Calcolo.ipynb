{
 "cells": [
  {
   "cell_type": "markdown",
   "metadata": {},
   "source": [
    "# Foglio di Calcolo"
   ]
  },
  {
   "cell_type": "code",
   "execution_count": 26,
   "metadata": {},
   "outputs": [],
   "source": [
    "import numpy as np\n",
    "import pandas as pd\n",
    "import cygnus_lib as cy\n",
    "import mylib as my\n",
    "import matplotlib.pyplot as plt\n",
    "\n",
    "def geo_image(d0):\n",
    "    do_plot = False\n",
    "    # input distance in cm\n",
    "    # return Magnificatio, Image Size and Omega for a given distance of the camera\n",
    "    # output Magnificatio, Image Size and omega\n",
    "    a = 0.95        #diaframma\n",
    "    d = d0/2.5 - 1   #demagnificazione\n",
    "    s = (d*1.33)\n",
    "    omega = 1/((4*d+1)*a)**2 #light collected\n",
    "    if (do_plot):\n",
    "        print ('Omega: %.2e' % omega)\n",
    "        print ('Magnification: %.2e' % d)\n",
    "        print ('Image Size: %.2e cm' % s)\n",
    "    return d, s, omega\n",
    "def v_drift6040(kv):\n",
    "    do_plot = False\n",
    "    # input kv/cm\n",
    "    # return drift velocity cm/mus for a given kv/cm\n",
    "    # output cm/mus\n",
    "\n",
    "    kVcm = [0.0, 0.5, 1.0, 1.5, 2.0, 2.5, 3.0, 3.5, 4.0, 4.5, 5.0]\n",
    "    vDrift6040 = [0.00, 4.06, 6.12, 7.42, 8.30, 8.84, 9.08, 9.06, 8.84, 8.49, 8.11]\n",
    "    x = kVcm\n",
    "    y = vDrift6040\n",
    "    par = np.polyfit(x, y, 4)\n",
    "    ffit = np.poly1d(par)\n",
    "    if (do_plot):\n",
    "        print (\"fit par\", par)\n",
    "        my.set_atlas_style()  \n",
    "        fig, ax = plt.subplots()\n",
    "        ax.set_xlabel(r'drift field [kV]')\n",
    "        ax.set_ylabel(r'V$_{drift}$ [cm/$\\mu$s]')\n",
    "        kv1 = 0.357 # 8150-1020=7130    / 20 = 356,5 Volt/cm\n",
    "        kv1 = 0.300\n",
    "        kv2 = 0.565 # 1020 - 455 = 565\n",
    "        kv2 = 0.450\n",
    "        kv3 = 0.600 # 15000-3000 =12000 / 20 = 600 Volt/cm \n",
    "        kv4 = 0.835 # 3000 - 455*3 - 400*2 = 835\n",
    "        kv4 = 1.0\n",
    "    \n",
    "\n",
    "\n",
    "\n",
    "        ax.plot(x, ffit(x), '--k') \n",
    "        print (r'V$_drif$ of %.2fkV/cmm = %.2f cm/$\\mu$s' % (kv, ffit(kv)))\n",
    "        print ('%.2f' % (ffit(kv3)/ffit(kv2)))\n",
    "        ax.plot(x, y, 'r.', markersize=20, label=((r'V$_{drift}$ HeCF$_4$ %s'+\n",
    "                                               '\\n'+'%.2fkV/cm = %.2f cm/$\\mu$s'+\n",
    "                                               '\\n'+'%.2fkV/cm = %.2f cm/$\\mu$s'+\n",
    "                                               '\\n'+'%.2fkV/cm = %.2f cm/$\\mu$s'+\n",
    "                                               '\\n'+'%.2fkV/cm = %.2f cm/$\\mu$s') % \n",
    "                ( \"60/40\", kv1, ffit(kv1), \n",
    "                 kv2, ffit(kv2), \n",
    "                 kv3, ffit(kv3),\n",
    "                 kv4, ffit(kv4)\n",
    "                )))\n",
    "        \n",
    "        ax.legend(loc=4)\n",
    "        plt.minorticks_on()\n",
    "        plt.show()\n",
    "    return ffit(kv)"
   ]
  },
  {
   "cell_type": "code",
   "execution_count": 35,
   "metadata": {},
   "outputs": [
    {
     "name": "stdout",
     "output_type": "stream",
     "text": [
      "(7.800000000000001, 10.374000000000002, 0.0010686636713448843) (18.6, 24.738000000000003, 0.0001948992184911647) (25.0, 33.25, 0.00010862006087611314)\n",
      "4.358547356643349\n"
     ]
    },
    {
     "data": {
      "text/html": [
       "<div>\n",
       "<style scoped>\n",
       "    .dataframe tbody tr th:only-of-type {\n",
       "        vertical-align: middle;\n",
       "    }\n",
       "\n",
       "    .dataframe tbody tr th {\n",
       "        vertical-align: top;\n",
       "    }\n",
       "\n",
       "    .dataframe thead th {\n",
       "        text-align: right;\n",
       "    }\n",
       "</style>\n",
       "<table border=\"1\" class=\"dataframe\">\n",
       "  <thead>\n",
       "    <tr style=\"text-align: right;\">\n",
       "      <th></th>\n",
       "      <th>Magnification</th>\n",
       "      <th>Image Size</th>\n",
       "      <th>Omega</th>\n",
       "      <th>Vdrift</th>\n",
       "    </tr>\n",
       "  </thead>\n",
       "  <tbody>\n",
       "    <tr>\n",
       "      <th>ORANGE</th>\n",
       "      <td>0.850577</td>\n",
       "      <td>2.253776</td>\n",
       "      <td>1.153907</td>\n",
       "      <td>0.196181</td>\n",
       "    </tr>\n",
       "    <tr>\n",
       "      <th>LEONON</th>\n",
       "      <td>1.458889</td>\n",
       "      <td>-0.657046</td>\n",
       "      <td>0.043119</td>\n",
       "      <td>-1.527974</td>\n",
       "    </tr>\n",
       "    <tr>\n",
       "      <th>LIME</th>\n",
       "      <td>-0.668347</td>\n",
       "      <td>-0.625532</td>\n",
       "      <td>-1.790358</td>\n",
       "      <td>1.039151</td>\n",
       "    </tr>\n",
       "    <tr>\n",
       "      <th>MANGO</th>\n",
       "      <td>1.167539</td>\n",
       "      <td>-0.776443</td>\n",
       "      <td>0.238215</td>\n",
       "      <td>-0.963528</td>\n",
       "    </tr>\n",
       "  </tbody>\n",
       "</table>\n",
       "</div>"
      ],
      "text/plain": [
       "        Magnification  Image Size     Omega    Vdrift\n",
       "ORANGE       0.850577    2.253776  1.153907  0.196181\n",
       "LEONON       1.458889   -0.657046  0.043119 -1.527974\n",
       "LIME        -0.668347   -0.625532 -1.790358  1.039151\n",
       "MANGO        1.167539   -0.776443  0.238215 -0.963528"
      ]
     },
     "execution_count": 35,
     "metadata": {},
     "output_type": "execute_result"
    }
   ],
   "source": [
    "print (geo_image(22), geo_image(49), geo_image(65))\n",
    "print (v_drift6040(0.6))\n",
    "df = pd.DataFrame(np.random.randn(4,4),\n",
    "                  index=[\"ORANGE\", \"LEONON\", \"LIME\", \"MANGO\"],\n",
    "                  columns=[\"Magnification\", \"Image Size\", \"Omega\", \"Vdrift\"])\n",
    "df"
   ]
  },
  {
   "cell_type": "code",
   "execution_count": null,
   "metadata": {},
   "outputs": [],
   "source": []
  }
 ],
 "metadata": {
  "kernelspec": {
   "display_name": "Python 3",
   "language": "python",
   "name": "python3"
  },
  "language_info": {
   "codemirror_mode": {
    "name": "ipython",
    "version": 3
   },
   "file_extension": ".py",
   "mimetype": "text/x-python",
   "name": "python",
   "nbconvert_exporter": "python",
   "pygments_lexer": "ipython3",
   "version": "3.6.5"
  }
 },
 "nbformat": 4,
 "nbformat_minor": 2
}
