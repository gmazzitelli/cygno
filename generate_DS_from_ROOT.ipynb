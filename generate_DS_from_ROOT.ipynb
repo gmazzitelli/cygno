{
 "cells": [
  {
   "cell_type": "code",
   "execution_count": 1,
   "metadata": {},
   "outputs": [
    {
     "name": "stdout",
     "output_type": "stream",
     "text": [
      "Welcome to JupyROOT 6.15/01\n"
     ]
    }
   ],
   "source": [
    "import pandas as pd\n",
    "import numpy as np\n",
    "import matplotlib.pyplot as plt\n",
    "import cygnus_lib as cy\n",
    "import mylib as my\n",
    "from scipy.optimize import curve_fit\n",
    "from scipy.stats import chisquare\n",
    "import scipy.stats as stats\n",
    "from itertools import combinations\n",
    "import math\n",
    "%matplotlib inline\n",
    "x_resolution = y_resolution = 2048\n",
    "import os\n",
    "import requests\n",
    "import ROOT\n",
    "import root_numpy as rtnp\n",
    "ROOT.gROOT.SetBatch(True)\n",
    "cy.set_atlas_style('square')\n",
    "from sklearn.cluster import DBSCAN\n",
    "from sklearn.preprocessing import StandardScaler\n"
   ]
  },
  {
   "cell_type": "markdown",
   "metadata": {},
   "source": [
    "# Run selection parameters"
   ]
  },
  {
   "cell_type": "code",
   "execution_count": 2,
   "metadata": {
    "scrolled": false
   },
   "outputs": [
    {
     "name": "stdout",
     "output_type": "stream",
     "text": [
      "No Pedestal file for run 2154, run script runs-pedestals.ipynb\n",
      "STOP\n",
      "No Sigma file for run 2154, run script runs-pedestals.ipynb\n",
      "STOP\n"
     ]
    },
    {
     "ename": "NameError",
     "evalue": "name 'm_image' is not defined",
     "output_type": "error",
     "traceback": [
      "\u001b[0;31m---------------------------------------------------------------------------\u001b[0m",
      "\u001b[0;31mNameError\u001b[0m                                 Traceback (most recent call last)",
      "\u001b[0;32m<ipython-input-2-6c10947fdb84>\u001b[0m in \u001b[0;36m<module>\u001b[0;34m\u001b[0m\n\u001b[1;32m     38\u001b[0m \u001b[0;31m#########################\u001b[0m\u001b[0;34m\u001b[0m\u001b[0;34m\u001b[0m\u001b[0;34m\u001b[0m\u001b[0m\n\u001b[1;32m     39\u001b[0m \u001b[0;34m\u001b[0m\u001b[0m\n\u001b[0;32m---> 40\u001b[0;31m \u001b[0mth_image\u001b[0m   \u001b[0;34m=\u001b[0m \u001b[0mnp\u001b[0m\u001b[0;34m.\u001b[0m\u001b[0mround\u001b[0m\u001b[0;34m(\u001b[0m\u001b[0mm_image\u001b[0m \u001b[0;34m+\u001b[0m \u001b[0mnsigma\u001b[0m\u001b[0;34m*\u001b[0m\u001b[0ms_image\u001b[0m\u001b[0;34m)\u001b[0m\u001b[0;34m\u001b[0m\u001b[0;34m\u001b[0m\u001b[0m\n\u001b[0m\u001b[1;32m     41\u001b[0m \u001b[0mprint\u001b[0m \u001b[0;34m(\u001b[0m\u001b[0;34m\"light over Th: %.2f \"\u001b[0m \u001b[0;34m%\u001b[0m \u001b[0;34m(\u001b[0m\u001b[0mth_image\u001b[0m\u001b[0;34m.\u001b[0m\u001b[0msum\u001b[0m\u001b[0;34m(\u001b[0m\u001b[0;34m)\u001b[0m\u001b[0;34m-\u001b[0m\u001b[0mm_image\u001b[0m\u001b[0;34m.\u001b[0m\u001b[0msum\u001b[0m\u001b[0;34m(\u001b[0m\u001b[0;34m)\u001b[0m\u001b[0;34m)\u001b[0m\u001b[0;34m)\u001b[0m\u001b[0;34m\u001b[0m\u001b[0;34m\u001b[0m\u001b[0m\n\u001b[1;32m     42\u001b[0m \u001b[0;34m\u001b[0m\u001b[0m\n",
      "\u001b[0;31mNameError\u001b[0m: name 'm_image' is not defined"
     ]
    }
   ],
   "source": [
    "\n",
    "runI          = [2277] # 2320, 2318, 2317\n",
    "run_ped       = 2154  # 2316 #2154 \n",
    "cimax         = 300\n",
    "cimin         = 0 \n",
    "dataSelection = 'LAB'\n",
    "rescale       = 512\n",
    "nsigma        = 1.5\n",
    "\n",
    "\n",
    "\n",
    "#########################\n",
    "\n",
    "try:\n",
    "    fileoutm = (\"./data/run%d_mean.h5\" % (run_ped))\n",
    "    m_image = cy.read_image_h5(fileoutm)\n",
    "    PedOverMax = m_image[m_image > cimax].size\n",
    "    print (\"Pedestal mean: %.2f, sigma: %.2f, over th. (%d) %d\" % \n",
    "       (m_image[m_image<cimax].mean(), \n",
    "        np.sqrt(m_image[m_image<cimax].var()), cimax,\n",
    "        (m_image>cimax).sum()))\n",
    "except:\n",
    "    print (\"No Pedestal file for run %s, run script runs-pedestals.ipynb\" % run_ped)\n",
    "    print (\"STOP\")\n",
    "\n",
    "    \n",
    "try: \n",
    "    fileouts = (\"./data/run%d_sigma.h5\" % (run_ped))\n",
    "    s_image = cy.read_image_h5(fileouts)\n",
    "    print (\"Sigma mean: %.2f, sigma: %.2f, over th. (50) %d\" % \n",
    "   (s_image[s_image<50].mean(), \n",
    "    np.sqrt(s_image[s_image<50].var()), \n",
    "    (s_image>50).sum()))\n",
    "except:\n",
    "    print (\"No Sigma file for run %s, run script runs-pedestals.ipynb\" % run_ped)\n",
    "    print (\"STOP\")\n",
    "\n",
    "#########################\n",
    "\n",
    "th_image   = np.round(m_image + nsigma*s_image)\n",
    "print (\"light over Th: %.2f \" % (th_image.sum()-m_image.sum()))\n",
    "\n",
    "    \n",
    "    \n",
    "for nRi in range(0,len(runI)):\n",
    "    try:\n",
    "        print ('Download and open file: '+cy.swift_root_file(dataSelection, runI[nRi]))\n",
    "        tmp_file = cy.swift_download_file(cy.swift_root_file(dataSelection, runI[nRi]))\n",
    "        print ('Open file: '+tmp_file)\n",
    "        f  = ROOT.TFile.Open(tmp_file);\n",
    "        print ('Find Keys: '+str(len(f.GetListOfKeys())))\n",
    "        pic, wfm = cy.root_TH2_name(f)\n",
    "        max_image = len(pic)\n",
    "        max_wfm = len(wfm)\n",
    "        print (\"# of Images (TH2) Files: %d \" % (max_image))\n",
    "        print (\"# of Waveform (TH2) Files: %d \" % (max_wfm))\n",
    "        nImag=max_image\n",
    "    except:\n",
    "        print (\"ERROR: No file %d\" % (runI[nRi]))\n",
    "        break\n",
    "\n",
    "    data_to_save = []\n",
    "    files = (\"./data/dbscan_run%d_cmin_%d_cmax_%d_rescale_%d_nsigma_%.1f_ev_%d_ped_%d.txt\" % \n",
    "                     (runI[nRi], cimin, cimax, rescale, nsigma, max_image, run_ped))\n",
    "    for iTr in range(0, max_image):\n",
    "        if iTr % 10 == 0:\n",
    "            print ('RUN: ', runI[nRi], 'Event: ', iTr)\n",
    "            print (iTr, ' >> Close and re-Open: ', tmp_file)\n",
    "            f.Close()\n",
    "            f  = ROOT.TFile.Open(tmp_file);\n",
    "\n",
    "        image = rtnp.hist2array(f.Get(pic[iTr])).T\n",
    "\n",
    "        rebin_image     = cy.rebin(image-m_image, (rescale, rescale))  \n",
    "        rebin_th_image  = cy.rebin((th_image-m_image), (rescale, rescale))\n",
    "\n",
    "        edges           = (rebin_image > rebin_th_image) & (rebin_image < cimax)         \n",
    "        points          = np.array(np.nonzero(edges)).T.astype(float) \n",
    "        scaler          = StandardScaler()\n",
    "        X_scaled        = scaler.fit_transform(points)\n",
    "\n",
    "        dbscan          = DBSCAN(eps=0.05, min_samples = 2)\n",
    "        dbscan.fit(points)\n",
    "\n",
    "        clusters = dbscan.fit_predict(X_scaled)\n",
    "\n",
    "        for ic in range (min(dbscan.labels_), max(dbscan.labels_)):\n",
    "            ph = 0.\n",
    "            # print (\"value: \", iTr, ic, dbscan.labels_[ic], min(dbscan.labels_), max(dbscan.labels_))\n",
    "            yc = points[:,1][dbscan.labels_==ic]\n",
    "            xc = points[:,0][dbscan.labels_==ic]\n",
    "            ph, dim = cy.cluster_par(yc, xc, rebin_image)\n",
    "            width, height, pearson = cy.confidence_ellipse_par(yc,xc)\n",
    "            for j in range(0, dim):\n",
    "                x=int(xc[j])\n",
    "                y=int(yc[j])\n",
    "                #ph += rebin_image[y,x]\n",
    "                if j == 0:\n",
    "                    x0start = x\n",
    "                    y0start = y\n",
    "            x0end = x\n",
    "            y0end = y\n",
    "            data_to_save.append([iTr, ic, dim, ph, ph/dim, \n",
    "                                 x0start, y0start, x0end, y0end, width, height, pearson])\n",
    "\n",
    "    np.savetxt(files, data_to_save, fmt='%.10e', delimiter=\" \")\n",
    "    print (\"out file\", files)\n",
    "    if not cy.rm_file(tmp_file):\n",
    "        print (\">> File \"+tmp_file+\" removed\")\n",
    "        \n"
   ]
  },
  {
   "cell_type": "code",
   "execution_count": null,
   "metadata": {},
   "outputs": [],
   "source": []
  }
 ],
 "metadata": {
  "kernelspec": {
   "display_name": "Python 3",
   "language": "python",
   "name": "python3"
  },
  "language_info": {
   "codemirror_mode": {
    "name": "ipython",
    "version": 3
   },
   "file_extension": ".py",
   "mimetype": "text/x-python",
   "name": "python",
   "nbconvert_exporter": "python",
   "pygments_lexer": "ipython3",
   "version": "3.6.8"
  }
 },
 "nbformat": 4,
 "nbformat_minor": 2
}
