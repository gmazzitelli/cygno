{
  "nbformat": 4,
  "nbformat_minor": 0,
  "metadata": {
    "kernelspec": {
      "name": "python2",
      "display_name": "Python 2"
    },
    "colab": {
      "name": "show-image-online.ipynb",
      "provenance": [],
      "include_colab_link": true
    }
  },
  "cells": [
    {
      "cell_type": "markdown",
      "metadata": {
        "id": "view-in-github",
        "colab_type": "text"
      },
      "source": [
        "<a href=\"https://colab.research.google.com/github/gmazzitelli/cygno/blob/master/show_image_online.ipynb\" target=\"_parent\"><img src=\"https://colab.research.google.com/assets/colab-badge.svg\" alt=\"Open In Colab\"/></a>"
      ]
    },
    {
      "cell_type": "code",
      "metadata": {
        "id": "J3hGfE_u8_Ed",
        "colab_type": "code",
        "colab": {
          "base_uri": "https://localhost:8080/",
          "height": 238
        },
        "outputId": "99064baa-ed86-48b1-d016-c1909e2e1eaa"
      },
      "source": [
        "!mkdir -p APPS\n",
        "!pwd\n",
        "!cd APPS && wget https://root.cern.ch/download/root_v6.13.08.Linux-ubuntu18-x86_64-gcc7.3.tar.gz \n",
        "!cd APPS && tar -xf root_v6.13.08.Linux-ubuntu18-x86_64-gcc7.3.tar.gz\n",
        "\n",
        "import sys\n",
        "sys.path.append(\"/content/APPS/root/lib\")\n",
        "import ctypes\n",
        "ctypes.cdll.LoadLibrary('/content/APPS/root/lib/libCore.so')\n",
        "ctypes.cdll.LoadLibrary('/content/APPS/root/lib/libThread.so')\n",
        "ctypes.cdll.LoadLibrary('/content/APPS/root/lib/libImt.so')\n",
        "ctypes.cdll.LoadLibrary('/content/APPS/root/lib/libRIO.so')\n",
        "ctypes.cdll.LoadLibrary('/content/APPS/root/lib/libNet.so')\n",
        "ctypes.cdll.LoadLibrary('/content/APPS/root/lib/libTree.so')\n",
        "ctypes.cdll.LoadLibrary('/content/APPS/root/lib/libMathCore.so')\n",
        "ctypes.cdll.LoadLibrary('/content/APPS/root/lib/libMatrix.so')\n",
        "ctypes.cdll.LoadLibrary('/content/APPS/root/lib/libHist.so')\n",
        "ctypes.cdll.LoadLibrary('/content/APPS/root/lib/libGraf.so')\n",
        "ctypes.cdll.LoadLibrary('/content/APPS/root/lib/libTreePlayer.so)"
      ],
      "execution_count": 1,
      "outputs": [
        {
          "output_type": "stream",
          "text": [
            "/content\n",
            "--2019-11-22 11:52:53--  https://root.cern.ch/download/root_v6.13.08.Linux-ubuntu18-x86_64-gcc7.3.tar.gz\n",
            "Resolving root.cern.ch (root.cern.ch)... 137.138.13.143, 2001:1458:201:45::100:b\n",
            "Connecting to root.cern.ch (root.cern.ch)|137.138.13.143|:443... connected.\n",
            "HTTP request sent, awaiting response... 200 OK\n",
            "Length: 137415272 (131M) [application/x-gzip]\n",
            "Saving to: ‘root_v6.13.08.Linux-ubuntu18-x86_64-gcc7.3.tar.gz.1’\n",
            "\n",
            "root_v6.13.08.Linux 100%[===================>] 131.05M  26.3MB/s    in 5.7s    \n",
            "\n",
            "2019-11-22 11:52:59 (22.9 MB/s) - ‘root_v6.13.08.Linux-ubuntu18-x86_64-gcc7.3.tar.gz.1’ saved [137415272/137415272]\n",
            "\n"
          ],
          "name": "stdout"
        },
        {
          "output_type": "execute_result",
          "data": {
            "text/plain": [
              "<CDLL '/content/APPS/root/lib/libGraf.so', handle 561f7ea5f700 at 7f9130ac3250>"
            ]
          },
          "metadata": {
            "tags": []
          },
          "execution_count": 1
        }
      ]
    },
    {
      "cell_type": "code",
      "metadata": {
        "id": "6Q_S283e9a2L",
        "colab_type": "code",
        "colab": {
          "base_uri": "https://localhost:8080/",
          "height": 207
        },
        "outputId": "3528d53b-0238-43aa-b809-dd36a52e5020"
      },
      "source": [
        "!pip install root-numpy"
      ],
      "execution_count": 3,
      "outputs": [
        {
          "output_type": "stream",
          "text": [
            "Collecting root-numpy\n",
            "\u001b[?25l  Downloading https://files.pythonhosted.org/packages/d5/5f/82f5111c22599676eb8b5f9b1bf85c38dcc7995d52cd6b4a8f5f5caa4659/root_numpy-4.8.0.tar.gz (520kB)\n",
            "\u001b[K     |████████████████████████████████| 522kB 2.8MB/s \n",
            "\u001b[?25hBuilding wheels for collected packages: root-numpy\n",
            "  Building wheel for root-numpy (setup.py) ... \u001b[?25l\u001b[?25hdone\n",
            "  Created wheel for root-numpy: filename=root_numpy-4.8.0-cp27-cp27mu-linux_x86_64.whl size=1620930 sha256=e6498191aea5d359d9942fab432dda717ea1fcd18e1bbd5729da48e44c3c8659\n",
            "  Stored in directory: /root/.cache/pip/wheels/f0/3c/18/62ccf3aec0284175916617d699f179d7cdbe4de0c7070be2a5\n",
            "Successfully built root-numpy\n",
            "Installing collected packages: root-numpy\n",
            "Successfully installed root-numpy-4.8.0\n"
          ],
          "name": "stdout"
        }
      ]
    },
    {
      "cell_type": "code",
      "metadata": {
        "id": "HnFpzuYT-4q2",
        "colab_type": "code",
        "colab": {
          "base_uri": "https://localhost:8080/",
          "height": 34
        },
        "outputId": "b8e9a8c1-db24-4eab-96f6-d5f816d4f75c"
      },
      "source": [
        "!find / -name 'libGraf3d.so'"
      ],
      "execution_count": 12,
      "outputs": [
        {
          "output_type": "stream",
          "text": [
            "/content/APPS/root/lib/libGraf3d.so\n"
          ],
          "name": "stdout"
        }
      ]
    },
    {
      "cell_type": "code",
      "metadata": {
        "id": "ISGVxROF-qcX",
        "colab_type": "code",
        "colab": {
          "base_uri": "https://localhost:8080/",
          "height": 34
        },
        "outputId": "7f5528b4-a4de-402f-eecb-1a86a4908d7f"
      },
      "source": [
        "ctypes.cdll.LoadLibrary('/content/APPS/root/lib/libMultiProc.so')\n",
        "ctypes.cdll.LoadLibrary('/content/APPS/root/lib/libGpad.so')\n",
        "ctypes.cdll.LoadLibrary('/content/APPS/root/lib/libGraf3d.so')\n",
        "ctypes.cdll.LoadLibrary('/content/APPS/root/lib/libTreePlayer.so')\n"
      ],
      "execution_count": 16,
      "outputs": [
        {
          "output_type": "execute_result",
          "data": {
            "text/plain": [
              "<CDLL '/content/APPS/root/lib/libTreePlayer.so', handle 561f81ffe500 at 7f9106a98650>"
            ]
          },
          "metadata": {
            "tags": []
          },
          "execution_count": 16
        }
      ]
    },
    {
      "cell_type": "code",
      "metadata": {
        "id": "wsGb5OQR8jIr",
        "colab_type": "code",
        "colab": {}
      },
      "source": [
        "import matplotlib.pyplot as plt\n",
        "import numpy as np    \n",
        "import ROOT\n",
        "from root_numpy import hist2array\n",
        "%matplotlib inline\n",
        "\n",
        "\n",
        "def swift_root_file(sel, run):\n",
        "    BASE_URL  = \"https://swift.cloud.infn.it:8080/v1/AUTH_1e60fe39fba04701aa5ffc0b97871ed8/Cygnus/\"\n",
        "    file_root = ('Data/'+sel+'/histograms_Run%05d.root' % run)\n",
        "    return BASE_URL+file_root\n",
        "\n",
        "def reporthook(blocknum, blocksize, totalsize):\n",
        "    import sys\n",
        "    readsofar = blocknum * blocksize\n",
        "    if totalsize > 0:\n",
        "        percent = readsofar * 1e2 / totalsize\n",
        "        s = \"\\r%5.1f%% %*d / %d\" % (\n",
        "            percent, len(str(totalsize)), readsofar, totalsize)\n",
        "        sys.stderr.write(s)\n",
        "        if readsofar >= totalsize: # near the end\n",
        "            sys.stderr.write(\"\\n\")\n",
        "    else: # total size is unknown\n",
        "        sys.stderr.write(\"read %d\\n\" % (readsofar,))\n",
        "\n",
        "def swift_read_root_file(url):\n",
        "    import ROOT\n",
        "    import os\n",
        "    from urllib.request import urlretrieve\n",
        "    tmpname = \"./tmp.\" + str(os.getpid()) + \".root\"\n",
        "    urlretrieve(url, tmpname, reporthook)\n",
        "    f  = ROOT.TFile.Open(tmpname);\n",
        "    os.remove(tmpname)\n",
        "    return f   \n",
        "\n",
        "def root_TH2_name(root_file):\n",
        "    pic = []\n",
        "    wfm = []\n",
        "    for i,e in enumerate(root_file.GetListOfKeys()):\n",
        "        che = e.GetName()\n",
        "        print (che)\n",
        "        if ('pic_run' in str(che)):\n",
        "            pic.append(che)\n",
        "        elif ('wfm_run' in str(che)):\n",
        "            wfm.append(che)\n",
        "    return pic, wfm"
      ],
      "execution_count": 0,
      "outputs": []
    },
    {
      "cell_type": "code",
      "metadata": {
        "scrolled": false,
        "id": "SmxbnshJ8jI2",
        "colab_type": "code",
        "outputId": "2b4f6dae-e640-4f82-905d-912ad935cd9c",
        "colab": {
          "base_uri": "https://localhost:8080/",
          "height": 51
        }
      },
      "source": [
        "# - - Setup Variables - - #\n",
        "save = 0\n",
        "\n",
        "run = '02151'\n",
        "ini = 0\n",
        "end = ini+3\n",
        "\n",
        "try:\n",
        "\n",
        "    print ('Downloading and open file: '+swift_root_file('LAB', int(run)))\n",
        "    tf2 = swift_read_root_file(swift_root_file('LAB', int(run)))\n",
        "    for traccia in range(ini,end):\n",
        "\n",
        "        picname = 'pic_run%s_ev%d' % (run,traccia)\n",
        "        imageth2 = tf2.Get(picname)\n",
        "        image = hist2array(imageth2)\n",
        "        fig = plt.figure(figsize=(16,16))\n",
        "        plt.title(\"I%d Run%d\" % (traccia, int(run)))\n",
        "        plt.imshow(image.T, cmap=\"gray\", vmin=99,vmax=105)\n",
        "        plt.xticks([])\n",
        "        plt.yticks([])\n",
        "        plt.colorbar()\n",
        "        #plt.savefig('/Volumes/Mac_DATA/Cygnus/Data/BTF_2017-2/Data_Image/I%dRun%d_FNG.eps' % (traccia, run), format='eps')\n",
        "        if save == 1:\n",
        "            plt.savefig('./images/I%dRun%s.png' % (traccia, run), format='png',  dpi = 400, bbox_inches = 'tight', pad_inches = 0)\n",
        "        plt.show()\n",
        "\n",
        "except:\n",
        "    \n",
        "    print (\"histogram_Run%s not found, skip for the next...\" % run)\n",
        "    \n",
        "    "
      ],
      "execution_count": 18,
      "outputs": [
        {
          "output_type": "stream",
          "text": [
            "Downloading and open file: https://swift.cloud.infn.it:8080/v1/AUTH_1e60fe39fba04701aa5ffc0b97871ed8/Cygnus/Data/LAB/histograms_Run02151.root\n",
            "histogram_Run02151 not found, skip for the next...\n"
          ],
          "name": "stdout"
        }
      ]
    }
  ]
}