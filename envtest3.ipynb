{
 "cells": [
  {
   "cell_type": "code",
   "execution_count": 2,
   "metadata": {},
   "outputs": [
    {
     "name": "stdout",
     "output_type": "stream",
     "text": [
      "PATH\n",
      "LANG\n",
      "ROOTSYS\n",
      "LD_LIBRARY_PATH\n",
      "JUPYTERHUB_API_TOKEN\n",
      "JPY_API_TOKEN\n",
      "JUPYTERHUB_CLIENT_ID\n",
      "JUPYTERHUB_HOST\n",
      "JUPYTERHUB_OAUTH_CALLBACK_URL\n",
      "JUPYTERHUB_USER\n",
      "JUPYTERHUB_API_URL\n",
      "JUPYTERHUB_BASE_URL\n",
      "JUPYTERHUB_SERVICE_PREFIX\n",
      "USER\n",
      "HOME\n",
      "SHELL\n",
      "JPY_PARENT_PID\n",
      "TERM\n",
      "CLICOLOR\n",
      "PAGER\n",
      "GIT_PAGER\n",
      "MPLBACKEND\n"
     ]
    }
   ],
   "source": [
    "import os\n",
    "for var in os.environ:\n",
    "    print (var)"
   ]
  },
  {
   "cell_type": "code",
   "execution_count": 3,
   "metadata": {},
   "outputs": [
    {
     "name": "stdout",
     "output_type": "stream",
     "text": [
      "sys.executable: /opt/anaconda3/bin/python\n",
      "sys.path: ['/opt/anaconda3/lib/python36.zip', '/opt/anaconda3/lib/python3.6', '/opt/anaconda3/lib/python3.6/lib-dynload', '', '/opt/anaconda3/lib/python3.6/site-packages', '/opt/anaconda3/lib/python3.6/site-packages/Mako-1.0.7-py3.6.egg', '/opt/anaconda3/lib/python3.6/site-packages/IPython/extensions', '/home/mazzitel/.ipython', '/usr/local/root/build/lib']\n"
     ]
    }
   ],
   "source": [
    "import sys\n",
    "print (\"sys.executable:\", sys.executable)\n",
    "print (\"sys.path:\", sys.path)"
   ]
  },
  {
   "cell_type": "code",
   "execution_count": 4,
   "metadata": {},
   "outputs": [
    {
     "data": {
      "text/plain": [
       "{'PATH': '/opt/anaconda3/bin:/opt/anaconda3/bin:/usr/local/root/build/bin:/usr/local/sbin:/sbin:/bin:/usr/sbin:/usr/bin:/root/bin',\n",
       " 'LANG': 'en_US.UTF-8',\n",
       " 'ROOTSYS': '/usr/local/root/build',\n",
       " 'LD_LIBRARY_PATH': '/usr/local/root/build/lib',\n",
       " 'JUPYTERHUB_API_TOKEN': '36acf062dfd24826b8efbb62f0c188a4',\n",
       " 'JPY_API_TOKEN': '36acf062dfd24826b8efbb62f0c188a4',\n",
       " 'JUPYTERHUB_CLIENT_ID': 'jupyterhub-user-mazzitel',\n",
       " 'JUPYTERHUB_HOST': '',\n",
       " 'JUPYTERHUB_OAUTH_CALLBACK_URL': '/user/mazzitel/oauth_callback',\n",
       " 'JUPYTERHUB_USER': 'mazzitel',\n",
       " 'JUPYTERHUB_API_URL': 'http://127.0.0.1:8081/hub/api',\n",
       " 'JUPYTERHUB_BASE_URL': '/',\n",
       " 'JUPYTERHUB_SERVICE_PREFIX': '/user/mazzitel/',\n",
       " 'USER': 'mazzitel',\n",
       " 'HOME': '/home/mazzitel',\n",
       " 'SHELL': '/bin/bash',\n",
       " 'JPY_PARENT_PID': '5599',\n",
       " 'TERM': 'xterm-color',\n",
       " 'CLICOLOR': '1',\n",
       " 'PAGER': 'cat',\n",
       " 'GIT_PAGER': 'cat',\n",
       " 'MPLBACKEND': 'module://ipykernel.pylab.backend_inline'}"
      ]
     },
     "execution_count": 4,
     "metadata": {},
     "output_type": "execute_result"
    }
   ],
   "source": [
    "env"
   ]
  },
  {
   "cell_type": "code",
   "execution_count": 6,
   "metadata": {},
   "outputs": [],
   "source": [
    "import os\n",
    "os.environ['ROOTSYS'] = '/usr/local/root/build'\n",
    "os.environ['MANPATH'] = '/usr/local/root/build/man:/opt/anaconda3/man:/usr/share/man'\n",
    "os.environ['LD_LIBRARY_PATH'] = '/usr/local/root/build/lib'\n",
    "os.environ['LIBPATH'] = '/usr/local/root/build/lib'\n",
    "os.environ['JUPYTER_PATH']= '/usr/local/root/build/etc/notebook'\n",
    "#os.environ['ROOTSYS'] =/usr/local/root/build/bin:/opt/anaconda3/bin:/usr/local/bin:/usr/bin:/usr/local/sbin:/usr/sbin:/home/mazzitel/.local/bin:/home/mazzitel/bin\n",
    "os.environ['DYLD_LIBRARY_PATH']= '/usr/local/root/build/lib'\n",
    "os.environ['PYTHONPATH']= '/usr/local/root/build/lib'\n",
    "os.environ['SHLIB_PATH']= '/usr/local/root/build/lib'\n",
    "os.environ['CMAKE_PREFIX_PATH']= '/usr/local/root/build'\n"
   ]
  },
  {
   "cell_type": "code",
   "execution_count": 7,
   "metadata": {},
   "outputs": [
    {
     "data": {
      "text/plain": [
       "{'PATH': '/opt/anaconda3/bin:/opt/anaconda3/bin:/usr/local/root/build/bin:/usr/local/sbin:/sbin:/bin:/usr/sbin:/usr/bin:/root/bin',\n",
       " 'LANG': 'en_US.UTF-8',\n",
       " 'JUPYTERHUB_API_TOKEN': '131a124ba2644f7dbb735ed2d16276e6',\n",
       " 'JPY_API_TOKEN': '131a124ba2644f7dbb735ed2d16276e6',\n",
       " 'JUPYTERHUB_CLIENT_ID': 'jupyterhub-user-mazzitel',\n",
       " 'JUPYTERHUB_HOST': '',\n",
       " 'JUPYTERHUB_OAUTH_CALLBACK_URL': '/user/mazzitel/oauth_callback',\n",
       " 'JUPYTERHUB_USER': 'mazzitel',\n",
       " 'JUPYTERHUB_API_URL': 'http://127.0.0.1:8081/hub/api',\n",
       " 'JUPYTERHUB_BASE_URL': '/',\n",
       " 'JUPYTERHUB_SERVICE_PREFIX': '/user/mazzitel/',\n",
       " 'USER': 'mazzitel',\n",
       " 'HOME': '/home/mazzitel',\n",
       " 'SHELL': '/bin/bash',\n",
       " 'JPY_PARENT_PID': '320',\n",
       " 'TERM': 'xterm-color',\n",
       " 'CLICOLOR': '1',\n",
       " 'PAGER': 'cat',\n",
       " 'GIT_PAGER': 'cat',\n",
       " 'MPLBACKEND': 'module://ipykernel.pylab.backend_inline',\n",
       " 'ROOTSYS': '/usr/local/root/build',\n",
       " 'MANPATH': '/usr/local/root/build/man:/opt/anaconda3/man:/usr/share/man',\n",
       " 'LD_LIBRARY_PATH': '/usr/local/root/build/lib',\n",
       " 'LIBPATH': '/usr/local/root/build/lib',\n",
       " 'JUPYTER_PATH': '/usr/local/root/build/etc/notebook',\n",
       " 'DYLD_LIBRARY_PATH': '/usr/local/root/build/lib',\n",
       " 'PYTHONPATH': '/usr/local/root/build/lib',\n",
       " 'SHLIB_PATH': '/usr/local/root/build/lib',\n",
       " 'CMAKE_PREFIX_PATH': '/usr/local/root/build'}"
      ]
     },
     "execution_count": 7,
     "metadata": {},
     "output_type": "execute_result"
    }
   ],
   "source": [
    "env"
   ]
  },
  {
   "cell_type": "code",
   "execution_count": 1,
   "metadata": {},
   "outputs": [
    {
     "name": "stdout",
     "output_type": "stream",
     "text": [
      "Welcome to JupyROOT 6.15/01\n"
     ]
    }
   ],
   "source": [
    "import ROOT"
   ]
  },
  {
   "cell_type": "code",
   "execution_count": 10,
   "metadata": {},
   "outputs": [
    {
     "name": "stdout",
     "output_type": "stream",
     "text": [
      "/opt/anaconda3/bin/python ['', '/opt/anaconda3/lib/python36.zip', '/opt/anaconda3/lib/python3.6', '/opt/anaconda3/lib/python3.6/lib-dynload', '/opt/anaconda3/lib/python3.6/site-packages', '/opt/anaconda3/lib/python3.6/site-packages/Mako-1.0.7-py3.6.egg', '/opt/anaconda3/lib/python3.6/site-packages/IPython/extensions', '/home/mazzitel/.ipython', '/usr/local/root/build/lib']\n",
      "/opt/anaconda3/bin/python ['/usr/local/root/build/etc/notebook', '/usr/local/root/build/lib', '/usr/local/root/build', '', '/opt/anaconda3/lib/python36.zip', '/opt/anaconda3/lib/python3.6', '/opt/anaconda3/lib/python3.6/lib-dynload', '/opt/anaconda3/lib/python3.6/site-packages', '/opt/anaconda3/lib/python3.6/site-packages/Mako-1.0.7-py3.6.egg', '/opt/anaconda3/lib/python3.6/site-packages/IPython/extensions', '/home/mazzitel/.ipython', '/usr/local/root/build/lib']\n"
     ]
    }
   ],
   "source": [
    "import sys\n",
    "print (sys.executable, sys.path)\n",
    "sys.path.insert(0, \"/usr/local/root/build\")\n",
    "sys.path.insert(0, \"/usr/local/root/build/lib\")\n",
    "sys.path.insert(0, \"/usr/local/root/build/etc/notebook\")\n",
    "print (sys.executable, sys.path)"
   ]
  },
  {
   "cell_type": "code",
   "execution_count": 8,
   "metadata": {},
   "outputs": [],
   "source": [
    "import ROOT"
   ]
  },
  {
   "cell_type": "code",
   "execution_count": 5,
   "metadata": {},
   "outputs": [],
   "source": [
    "import  root_numpy"
   ]
  },
  {
   "cell_type": "code",
   "execution_count": null,
   "metadata": {},
   "outputs": [],
   "source": []
  }
 ],
 "metadata": {
  "kernelspec": {
   "display_name": "Python 3",
   "language": "python",
   "name": "python3"
  },
  "language_info": {
   "codemirror_mode": {
    "name": "ipython",
    "version": 3
   },
   "file_extension": ".py",
   "mimetype": "text/x-python",
   "name": "python",
   "nbconvert_exporter": "python",
   "pygments_lexer": "ipython3",
   "version": "3.6.8"
  }
 },
 "nbformat": 4,
 "nbformat_minor": 2
}
