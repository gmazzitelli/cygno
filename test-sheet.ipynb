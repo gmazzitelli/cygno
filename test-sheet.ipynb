{
 "cells": [
  {
   "cell_type": "code",
   "execution_count": 8,
   "metadata": {},
   "outputs": [
    {
     "name": "stdout",
     "output_type": "stream",
     "text": [
      "tmp.14361.h5\n"
     ]
    }
   ],
   "source": [
    "import os\n",
    "tmpname = \"tmp.\" + str(os.getpid()) + \".h5\"\n",
    "print(fname)\n"
   ]
  },
  {
   "cell_type": "code",
   "execution_count": 26,
   "metadata": {},
   "outputs": [
    {
     "name": "stdout",
     "output_type": "stream",
     "text": [
      "100 image in file 835\n",
      "./Run835/run835-00000.h5\n",
      "./Run835/run835-00001.h5\n",
      "./Run835/run835-00002.h5\n",
      "./Run835/run835-00003.h5\n",
      "./Run835/run835-00004.h5\n",
      "./Run835/run835-00005.h5\n",
      "./Run835/run835-00006.h5\n",
      "./Run835/run835-00007.h5\n",
      "./Run835/run835-00008.h5\n",
      "./Run835/run835-00009.h5\n",
      "./Run835/run835-00010.h5\n",
      "./Run835/run835-00011.h5\n",
      "./Run835/run835-00012.h5\n",
      "./Run835/run835-00013.h5\n",
      "./Run835/run835-00014.h5\n",
      "./Run835/run835-00015.h5\n",
      "./Run835/run835-00016.h5\n",
      "./Run835/run835-00017.h5\n",
      "./Run835/run835-00018.h5\n",
      "./Run835/run835-00019.h5\n",
      "./Run835/run835-00020.h5\n",
      "./Run835/run835-00021.h5\n",
      "./Run835/run835-00022.h5\n",
      "./Run835/run835-00023.h5\n",
      "./Run835/run835-00024.h5\n",
      "./Run835/run835-00025.h5\n",
      "./Run835/run835-00026.h5\n",
      "./Run835/run835-00027.h5\n",
      "./Run835/run835-00028.h5\n",
      "./Run835/run835-00029.h5\n",
      "./Run835/run835-00030.h5\n",
      "./Run835/run835-00031.h5\n",
      "./Run835/run835-00032.h5\n",
      "./Run835/run835-00033.h5\n",
      "./Run835/run835-00034.h5\n",
      "./Run835/run835-00035.h5\n",
      "./Run835/run835-00036.h5\n",
      "./Run835/run835-00037.h5\n",
      "./Run835/run835-00038.h5\n",
      "./Run835/run835-00039.h5\n",
      "./Run835/run835-00040.h5\n",
      "./Run835/run835-00041.h5\n",
      "./Run835/run835-00042.h5\n",
      "./Run835/run835-00043.h5\n",
      "./Run835/run835-00044.h5\n",
      "./Run835/run835-00045.h5\n",
      "./Run835/run835-00046.h5\n",
      "./Run835/run835-00047.h5\n",
      "./Run835/run835-00048.h5\n",
      "./Run835/run835-00049.h5\n",
      "./Run835/run835-00050.h5\n",
      "./Run835/run835-00051.h5\n",
      "./Run835/run835-00052.h5\n",
      "./Run835/run835-00053.h5\n",
      "./Run835/run835-00054.h5\n",
      "./Run835/run835-00055.h5\n",
      "./Run835/run835-00056.h5\n",
      "./Run835/run835-00057.h5\n",
      "./Run835/run835-00058.h5\n",
      "./Run835/run835-00059.h5\n",
      "./Run835/run835-00060.h5\n",
      "./Run835/run835-00061.h5\n",
      "./Run835/run835-00062.h5\n",
      "./Run835/run835-00063.h5\n",
      "./Run835/run835-00064.h5\n",
      "./Run835/run835-00065.h5\n",
      "./Run835/run835-00066.h5\n",
      "./Run835/run835-00067.h5\n",
      "./Run835/run835-00068.h5\n",
      "./Run835/run835-00069.h5\n",
      "./Run835/run835-00070.h5\n",
      "./Run835/run835-00071.h5\n",
      "./Run835/run835-00072.h5\n",
      "./Run835/run835-00073.h5\n",
      "./Run835/run835-00074.h5\n",
      "./Run835/run835-00075.h5\n",
      "./Run835/run835-00076.h5\n",
      "./Run835/run835-00077.h5\n",
      "./Run835/run835-00078.h5\n",
      "./Run835/run835-00079.h5\n",
      "./Run835/run835-00080.h5\n",
      "./Run835/run835-00081.h5\n",
      "./Run835/run835-00082.h5\n",
      "./Run835/run835-00083.h5\n",
      "./Run835/run835-00084.h5\n",
      "./Run835/run835-00085.h5\n",
      "./Run835/run835-00086.h5\n",
      "./Run835/run835-00087.h5\n",
      "./Run835/run835-00088.h5\n",
      "./Run835/run835-00089.h5\n",
      "./Run835/run835-00090.h5\n",
      "./Run835/run835-00091.h5\n",
      "./Run835/run835-00092.h5\n",
      "./Run835/run835-00093.h5\n",
      "./Run835/run835-00094.h5\n",
      "./Run835/run835-00095.h5\n",
      "./Run835/run835-00096.h5\n",
      "./Run835/run835-00097.h5\n",
      "./Run835/run835-00098.h5\n",
      "./Run835/run835-00099.h5\n",
      "Zipping...\n",
      "DONE\n"
     ]
    }
   ],
   "source": [
    "import cygnus_lib as cy\n",
    "import os\n",
    "import shutil\n",
    "runI = [835]\n",
    "dataSelection = \"LAB\"\n",
    "for nRi in range(0,len(runI)): \n",
    "    n_image=np.size(cy.swift_listdir(cy.file2FullPathCygnus(dataSelection, runI[nRi], 'H5')))\n",
    "    print (\"Downolading %d image of file %d\" % (n_image, runI[nRi]))\n",
    "    directory = \"./Run\" + str(runI[nRi])\n",
    "    if not os.path.exists(directory):\n",
    "        os.makedirs(directory)\n",
    "    image = cy.swift_read_image_h5(cy.imageFile2FullPathCygnus(dataSelection, runI[nRi], iTr))\n",
    "    for iTr in range(0, n_image):\n",
    "        filename = directory + \"/run%d-%05d.h5\" % (runI[nRi], iTr)\n",
    "        print (filename)\n",
    "        cy.write_image_h5(filename, image)\n",
    "    print (\"Zipping... %s\", directory)\n",
    "    shutil.make_archive(directory,'zip', directory)\n",
    "    shutil.rmtree(directory) \n",
    "home = os.environ['HOME']\n",
    "print (\"DONE %s\" % (directory+\".zip\"))"
   ]
  },
  {
   "cell_type": "code",
   "execution_count": 34,
   "metadata": {},
   "outputs": [
    {
     "name": "stdout",
     "output_type": "stream",
     "text": [
      "https://cygno.cc.infn.it/user/mazzitel/edit/./Run835.zip\n"
     ]
    }
   ],
   "source": [
    "user = os.environ['USER']\n",
    "#https://cygno.cc.infn.it/user/mazzitel/edit/Run835.zip\n",
    "print (\"https://cygno.cc.infn.it/user/\"+user+\"/edit/%s\"% (directory+\".zip\"))"
   ]
  },
  {
   "cell_type": "code",
   "execution_count": 31,
   "metadata": {},
   "outputs": [
    {
     "data": {
      "text/plain": [
       "'cygno'"
      ]
     },
     "execution_count": 31,
     "metadata": {},
     "output_type": "execute_result"
    }
   ],
   "source": [
    "import socket\n",
    "socket.gethostname()"
   ]
  },
  {
   "cell_type": "code",
   "execution_count": 48,
   "metadata": {},
   "outputs": [
    {
     "name": "stdout",
     "output_type": "stream",
     "text": [
      "click to dwonload /home/mazzitel/Run835.zip\n"
     ]
    }
   ],
   "source": [
    "from IPython.display import FileLink, FileLinks\n",
    "print(\"click to dwonload\", FileLink(directory+\".zip\"))\n",
    "#print (local_file)\n",
    "#FileLinks(directory+\".zip\") #lists all downloadable files on server"
   ]
  },
  {
   "cell_type": "code",
   "execution_count": 2,
   "metadata": {},
   "outputs": [
    {
     "data": {
      "image/png": "[encoded data removed]",
      "text/plain": [
       "<Figure size 432x288 with 1 Axes>"
      ]
     },
     "metadata": {},
     "output_type": "display_data"
    }
   ],
   "source": [
    "import matplotlib.pyplot as plt\n",
    "%matplotlib inline\n",
    "fig, ax = plt.subplots()\n",
    "cir = plt.Circle((0, 0), 1, color='r', linewidth=2, fill=False)\n",
    "ax.add_artist(cir)\n",
    "plt.show()"
   ]
  },
  {
   "cell_type": "code",
   "execution_count": null,
   "metadata": {},
   "outputs": [],
   "source": []
  },
  {
   "cell_type": "code",
   "execution_count": null,
   "metadata": {},
   "outputs": [],
   "source": []
  }
 ],
 "metadata": {
  "kernelspec": {
   "display_name": "Python 3",
   "language": "python",
   "name": "python3"
  },
  "language_info": {
   "codemirror_mode": {
    "name": "ipython",
    "version": 3
   },
   "file_extension": ".py",
   "mimetype": "text/x-python",
   "name": "python",
   "nbconvert_exporter": "python",
   "pygments_lexer": "ipython3",
   "version": "3.6.5"
  }
 },
 "nbformat": 4,
 "nbformat_minor": 2
}
