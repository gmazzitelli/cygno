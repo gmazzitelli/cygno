{
 "cells": [
  {
   "cell_type": "code",
   "execution_count": 13,
   "metadata": {},
   "outputs": [],
   "source": [
    "import pandas as pd\n",
    "import numpy as np\n",
    "import matplotlib.pyplot as plt\n",
    "import cygnus_lib as cy\n",
    "import mylib as my\n",
    "from scipy.optimize import curve_fit\n",
    "from scipy.stats import chisquare\n",
    "import scipy.stats as stats\n",
    "from itertools import combinations\n",
    "import math\n",
    "%matplotlib inline\n",
    "import os\n",
    "import requests\n",
    "cy.set_atlas_style('square')\n",
    "from sklearn.cluster import DBSCAN\n",
    "from sklearn.preprocessing import StandardScaler\n"
   ]
  },
  {
   "cell_type": "markdown",
   "metadata": {},
   "source": [
    "# LEMON Parameters"
   ]
  },
  {
   "cell_type": "code",
   "execution_count": 17,
   "metadata": {
    "scrolled": false
   },
   "outputs": [
    {
     "name": "stdout",
     "output_type": "stream",
     "text": [
      "Pedestal mean: 98.41, sigma: 1.30, over th. (300) 24\n",
      "Sigma mean: 2.56, sigma: 2.12, over th. (50) 15\n",
      "light over Th: 16136945.54 \n",
      "# of Images Files: 5400 \n",
      "RUN:  2326 Event:  0\n"
     ]
    },
    {
     "ename": "OSError",
     "evalue": "Unable to open file (file signature not found)",
     "output_type": "error",
     "traceback": [
      "\u001b[0;31m---------------------------------------------------------------------------\u001b[0m",
      "\u001b[0;31mOSError\u001b[0m                                   Traceback (most recent call last)",
      "\u001b[0;32m<ipython-input-17-1107bb64ecd8>\u001b[0m in \u001b[0;36m<module>\u001b[0;34m\u001b[0m\n\u001b[1;32m     62\u001b[0m         \u001b[0;31m# filepach = fii[0:35]+'_'+fii[35:]\u001b[0m\u001b[0;34m\u001b[0m\u001b[0;34m\u001b[0m\u001b[0;34m\u001b[0m\u001b[0m\n\u001b[1;32m     63\u001b[0m         \u001b[0;31m# image = cy.swift_read_image_h5(filepach)\u001b[0m\u001b[0;34m\u001b[0m\u001b[0;34m\u001b[0m\u001b[0;34m\u001b[0m\u001b[0m\n\u001b[0;32m---> 64\u001b[0;31m         \u001b[0mimage\u001b[0m \u001b[0;34m=\u001b[0m \u001b[0mcy\u001b[0m\u001b[0;34m.\u001b[0m\u001b[0mswift_read_image_h5\u001b[0m\u001b[0;34m(\u001b[0m\u001b[0mcy\u001b[0m\u001b[0;34m.\u001b[0m\u001b[0mimageFile2FullPathCygnus\u001b[0m\u001b[0;34m(\u001b[0m\u001b[0mdataSelection\u001b[0m\u001b[0;34m,\u001b[0m \u001b[0mrunI\u001b[0m\u001b[0;34m[\u001b[0m\u001b[0mnRi\u001b[0m\u001b[0;34m]\u001b[0m\u001b[0;34m,\u001b[0m \u001b[0miTr\u001b[0m\u001b[0;34m)\u001b[0m\u001b[0;34m)\u001b[0m\u001b[0;34m\u001b[0m\u001b[0;34m\u001b[0m\u001b[0m\n\u001b[0m\u001b[1;32m     65\u001b[0m         \u001b[0mrebin_image\u001b[0m     \u001b[0;34m=\u001b[0m \u001b[0mcy\u001b[0m\u001b[0;34m.\u001b[0m\u001b[0mrebin\u001b[0m\u001b[0;34m(\u001b[0m\u001b[0mimage\u001b[0m\u001b[0;34m-\u001b[0m\u001b[0mm_image\u001b[0m\u001b[0;34m,\u001b[0m \u001b[0;34m(\u001b[0m\u001b[0mrescale\u001b[0m\u001b[0;34m,\u001b[0m \u001b[0mrescale\u001b[0m\u001b[0;34m)\u001b[0m\u001b[0;34m)\u001b[0m\u001b[0;34m\u001b[0m\u001b[0;34m\u001b[0m\u001b[0m\n\u001b[1;32m     66\u001b[0m         \u001b[0mrebin_th_image\u001b[0m  \u001b[0;34m=\u001b[0m \u001b[0mcy\u001b[0m\u001b[0;34m.\u001b[0m\u001b[0mrebin\u001b[0m\u001b[0;34m(\u001b[0m\u001b[0;34m(\u001b[0m\u001b[0mth_image\u001b[0m\u001b[0;34m-\u001b[0m\u001b[0mm_image\u001b[0m\u001b[0;34m)\u001b[0m\u001b[0;34m,\u001b[0m \u001b[0;34m(\u001b[0m\u001b[0mrescale\u001b[0m\u001b[0;34m,\u001b[0m \u001b[0mrescale\u001b[0m\u001b[0;34m)\u001b[0m\u001b[0;34m)\u001b[0m\u001b[0;34m\u001b[0m\u001b[0;34m\u001b[0m\u001b[0m\n",
      "\u001b[0;32m~/cygnus_lib.py\u001b[0m in \u001b[0;36mswift_read_image_h5\u001b[0;34m(file)\u001b[0m\n\u001b[1;32m    177\u001b[0m     \u001b[0;32mwith\u001b[0m \u001b[0mopen\u001b[0m\u001b[0;34m(\u001b[0m\u001b[0mtmpname\u001b[0m\u001b[0;34m,\u001b[0m \u001b[0;34m'wb'\u001b[0m\u001b[0;34m)\u001b[0m \u001b[0;32mas\u001b[0m \u001b[0mtmp\u001b[0m\u001b[0;34m:\u001b[0m\u001b[0;34m\u001b[0m\u001b[0;34m\u001b[0m\u001b[0m\n\u001b[1;32m    178\u001b[0m             \u001b[0mtmp\u001b[0m\u001b[0;34m.\u001b[0m\u001b[0mwrite\u001b[0m\u001b[0;34m(\u001b[0m\u001b[0mr\u001b[0m\u001b[0;34m.\u001b[0m\u001b[0mcontent\u001b[0m\u001b[0;34m)\u001b[0m\u001b[0;34m\u001b[0m\u001b[0;34m\u001b[0m\u001b[0m\n\u001b[0;32m--> 179\u001b[0;31m     \u001b[0mimage\u001b[0m \u001b[0;34m=\u001b[0m \u001b[0mread_image_h5\u001b[0m\u001b[0;34m(\u001b[0m\u001b[0mtmpname\u001b[0m\u001b[0;34m)\u001b[0m\u001b[0;34m\u001b[0m\u001b[0;34m\u001b[0m\u001b[0m\n\u001b[0m\u001b[1;32m    180\u001b[0m     \u001b[0;32mtry\u001b[0m\u001b[0;34m:\u001b[0m\u001b[0;34m\u001b[0m\u001b[0;34m\u001b[0m\u001b[0m\n\u001b[1;32m    181\u001b[0m         \u001b[0mos\u001b[0m\u001b[0;34m.\u001b[0m\u001b[0mremove\u001b[0m\u001b[0;34m(\u001b[0m\u001b[0mtmpname\u001b[0m\u001b[0;34m)\u001b[0m\u001b[0;34m\u001b[0m\u001b[0;34m\u001b[0m\u001b[0m\n",
      "\u001b[0;32m~/cygnus_lib.py\u001b[0m in \u001b[0;36mread_image_h5\u001b[0;34m(file)\u001b[0m\n\u001b[1;32m    216\u001b[0m     \u001b[0;32mimport\u001b[0m \u001b[0mnumpy\u001b[0m \u001b[0;32mas\u001b[0m \u001b[0mnp\u001b[0m\u001b[0;34m\u001b[0m\u001b[0;34m\u001b[0m\u001b[0m\n\u001b[1;32m    217\u001b[0m     \u001b[0;32mimport\u001b[0m \u001b[0mh5py\u001b[0m\u001b[0;34m\u001b[0m\u001b[0;34m\u001b[0m\u001b[0m\n\u001b[0;32m--> 218\u001b[0;31m     \u001b[0;32mwith\u001b[0m \u001b[0mh5py\u001b[0m\u001b[0;34m.\u001b[0m\u001b[0mFile\u001b[0m\u001b[0;34m(\u001b[0m\u001b[0mfile\u001b[0m\u001b[0;34m,\u001b[0m\u001b[0;34m'r'\u001b[0m\u001b[0;34m)\u001b[0m \u001b[0;32mas\u001b[0m \u001b[0mhf\u001b[0m\u001b[0;34m:\u001b[0m\u001b[0;34m\u001b[0m\u001b[0;34m\u001b[0m\u001b[0m\n\u001b[0m\u001b[1;32m    219\u001b[0m         \u001b[0mdata\u001b[0m \u001b[0;34m=\u001b[0m \u001b[0mhf\u001b[0m\u001b[0;34m.\u001b[0m\u001b[0mget\u001b[0m\u001b[0;34m(\u001b[0m\u001b[0;34m'Image'\u001b[0m\u001b[0;34m)\u001b[0m\u001b[0;34m\u001b[0m\u001b[0;34m\u001b[0m\u001b[0m\n\u001b[1;32m    220\u001b[0m         \u001b[0mnp_data\u001b[0m \u001b[0;34m=\u001b[0m \u001b[0mnp\u001b[0m\u001b[0;34m.\u001b[0m\u001b[0marray\u001b[0m\u001b[0;34m(\u001b[0m\u001b[0mdata\u001b[0m\u001b[0;34m)\u001b[0m\u001b[0;34m\u001b[0m\u001b[0;34m\u001b[0m\u001b[0m\n",
      "\u001b[0;32m/opt/anaconda3/lib/python3.6/site-packages/h5py/_hl/files.py\u001b[0m in \u001b[0;36m__init__\u001b[0;34m(self, name, mode, driver, libver, userblock_size, swmr, rdcc_nslots, rdcc_nbytes, rdcc_w0, track_order, **kwds)\u001b[0m\n\u001b[1;32m    392\u001b[0m                 fid = make_fid(name, mode, userblock_size,\n\u001b[1;32m    393\u001b[0m                                \u001b[0mfapl\u001b[0m\u001b[0;34m,\u001b[0m \u001b[0mfcpl\u001b[0m\u001b[0;34m=\u001b[0m\u001b[0mmake_fcpl\u001b[0m\u001b[0;34m(\u001b[0m\u001b[0mtrack_order\u001b[0m\u001b[0;34m=\u001b[0m\u001b[0mtrack_order\u001b[0m\u001b[0;34m)\u001b[0m\u001b[0;34m,\u001b[0m\u001b[0;34m\u001b[0m\u001b[0;34m\u001b[0m\u001b[0m\n\u001b[0;32m--> 394\u001b[0;31m                                swmr=swmr)\n\u001b[0m\u001b[1;32m    395\u001b[0m \u001b[0;34m\u001b[0m\u001b[0m\n\u001b[1;32m    396\u001b[0m             \u001b[0;32mif\u001b[0m \u001b[0mswmr_support\u001b[0m\u001b[0;34m:\u001b[0m\u001b[0;34m\u001b[0m\u001b[0;34m\u001b[0m\u001b[0m\n",
      "\u001b[0;32m/opt/anaconda3/lib/python3.6/site-packages/h5py/_hl/files.py\u001b[0m in \u001b[0;36mmake_fid\u001b[0;34m(name, mode, userblock_size, fapl, fcpl, swmr)\u001b[0m\n\u001b[1;32m    168\u001b[0m         \u001b[0;32mif\u001b[0m \u001b[0mswmr\u001b[0m \u001b[0;32mand\u001b[0m \u001b[0mswmr_support\u001b[0m\u001b[0;34m:\u001b[0m\u001b[0;34m\u001b[0m\u001b[0;34m\u001b[0m\u001b[0m\n\u001b[1;32m    169\u001b[0m             \u001b[0mflags\u001b[0m \u001b[0;34m|=\u001b[0m \u001b[0mh5f\u001b[0m\u001b[0;34m.\u001b[0m\u001b[0mACC_SWMR_READ\u001b[0m\u001b[0;34m\u001b[0m\u001b[0;34m\u001b[0m\u001b[0m\n\u001b[0;32m--> 170\u001b[0;31m         \u001b[0mfid\u001b[0m \u001b[0;34m=\u001b[0m \u001b[0mh5f\u001b[0m\u001b[0;34m.\u001b[0m\u001b[0mopen\u001b[0m\u001b[0;34m(\u001b[0m\u001b[0mname\u001b[0m\u001b[0;34m,\u001b[0m \u001b[0mflags\u001b[0m\u001b[0;34m,\u001b[0m \u001b[0mfapl\u001b[0m\u001b[0;34m=\u001b[0m\u001b[0mfapl\u001b[0m\u001b[0;34m)\u001b[0m\u001b[0;34m\u001b[0m\u001b[0;34m\u001b[0m\u001b[0m\n\u001b[0m\u001b[1;32m    171\u001b[0m     \u001b[0;32melif\u001b[0m \u001b[0mmode\u001b[0m \u001b[0;34m==\u001b[0m \u001b[0;34m'r+'\u001b[0m\u001b[0;34m:\u001b[0m\u001b[0;34m\u001b[0m\u001b[0;34m\u001b[0m\u001b[0m\n\u001b[1;32m    172\u001b[0m         \u001b[0mfid\u001b[0m \u001b[0;34m=\u001b[0m \u001b[0mh5f\u001b[0m\u001b[0;34m.\u001b[0m\u001b[0mopen\u001b[0m\u001b[0;34m(\u001b[0m\u001b[0mname\u001b[0m\u001b[0;34m,\u001b[0m \u001b[0mh5f\u001b[0m\u001b[0;34m.\u001b[0m\u001b[0mACC_RDWR\u001b[0m\u001b[0;34m,\u001b[0m \u001b[0mfapl\u001b[0m\u001b[0;34m=\u001b[0m\u001b[0mfapl\u001b[0m\u001b[0;34m)\u001b[0m\u001b[0;34m\u001b[0m\u001b[0;34m\u001b[0m\u001b[0m\n",
      "\u001b[0;32mh5py/_objects.pyx\u001b[0m in \u001b[0;36mh5py._objects.with_phil.wrapper\u001b[0;34m()\u001b[0m\n",
      "\u001b[0;32mh5py/_objects.pyx\u001b[0m in \u001b[0;36mh5py._objects.with_phil.wrapper\u001b[0;34m()\u001b[0m\n",
      "\u001b[0;32mh5py/h5f.pyx\u001b[0m in \u001b[0;36mh5py.h5f.open\u001b[0;34m()\u001b[0m\n",
      "\u001b[0;31mOSError\u001b[0m: Unable to open file (file signature not found)"
     ]
    }
   ],
   "source": [
    "\n",
    "# LEMON\n",
    "#######\n",
    "x_resolution = y_resolution = 2048\n",
    "########\n",
    "#x_resolution = y_resolution = 2304\n",
    "runI          = [2357, 2359] \n",
    "runI          = [2326] \n",
    "run_ped       = 2340 \n",
    "cimax         = 300\n",
    "cimin         = 0 \n",
    "dataSelection = 'LTD'\n",
    "rescale       = 512\n",
    "nsigma        = 1.5\n",
    "\n",
    "\n",
    "#########################\n",
    "\n",
    "try:\n",
    "    fileoutm = (\"./data/run%d_mean.h5\" % (run_ped))\n",
    "    m_image = cy.read_image_h5(fileoutm)\n",
    "    PedOverMax = m_image[m_image > cimax].size\n",
    "    print (\"Pedestal mean: %.2f, sigma: %.2f, over th. (%d) %d\" % \n",
    "       (m_image[m_image<cimax].mean(), \n",
    "        np.sqrt(m_image[m_image<cimax].var()), cimax,\n",
    "        (m_image>cimax).sum()))\n",
    "except:\n",
    "    print (\"No Pedestal file for run %s, run script runs-pedestals.ipynb\" % run_ped)\n",
    "    print (\"STOP\")\n",
    "\n",
    "    \n",
    "try: \n",
    "    fileouts = (\"./data/run%d_sigma.h5\" % (run_ped))\n",
    "    s_image = cy.read_image_h5(fileouts)\n",
    "    print (\"Sigma mean: %.2f, sigma: %.2f, over th. (50) %d\" % \n",
    "   (s_image[s_image<50].mean(), \n",
    "    np.sqrt(s_image[s_image<50].var()), \n",
    "    (s_image>50).sum()))\n",
    "except:\n",
    "    print (\"No Sigma file for run %s, run script runs-pedestals.ipynb\" % run_ped)\n",
    "    print (\"STOP\")\n",
    "\n",
    "#########################\n",
    "\n",
    "th_image   = np.round(m_image + nsigma*s_image)\n",
    "print (\"light over Th: %.2f \" % (th_image.sum()-m_image.sum()))\n",
    "\n",
    "    \n",
    "    \n",
    "for nRi in range(0,len(runI)):\n",
    "    \n",
    "    max_image=np.size(cy.swift_listdir(cy.file2FullPathCygnus(dataSelection, runI[nRi],'H5')))\n",
    "    print (\"# of Images Files: %d \" % (max_image))\n",
    "    data_to_save = []\n",
    "    files = (\"./data/dbscan_run%d_cmin_%d_cmax_%d_rescale_%d_nsigma_%.1f_ev_%d_ped_%d.txt\" % \n",
    "                     (runI[nRi], cimin, cimax, rescale, nsigma, max_image, run_ped))\n",
    "    for iTr in range(0, max_image):\n",
    "        if iTr % 10 == 0:\n",
    "            print ('RUN: ', runI[nRi], 'Event: ', iTr)\n",
    "\n",
    "        # fii = cy.imageFile2FullPathCygnus(dataSelection, runI[nRi], iTr)\n",
    "        # filepach = fii[0:35]+'_'+fii[35:]\n",
    "        # image = cy.swift_read_image_h5(filepach) \n",
    "        image = cy.swift_read_image_h5(cy.imageFile2FullPathCygnus(dataSelection, runI[nRi], iTr)) \n",
    "        rebin_image     = cy.rebin(image-m_image, (rescale, rescale))  \n",
    "        rebin_th_image  = cy.rebin((th_image-m_image), (rescale, rescale))\n",
    "\n",
    "        edges           = (rebin_image > rebin_th_image) & (rebin_image < cimax)         \n",
    "        points          = np.array(np.nonzero(edges)).T.astype(float) \n",
    "        scaler          = StandardScaler()\n",
    "        X_scaled        = scaler.fit_transform(points)\n",
    "\n",
    "        dbscan          = DBSCAN(eps=0.05, min_samples = 2)\n",
    "        dbscan.fit(points)\n",
    "\n",
    "        clusters = dbscan.fit_predict(X_scaled)\n",
    "\n",
    "        for ic in range (min(dbscan.labels_), max(dbscan.labels_)):\n",
    "            ph = 0.\n",
    "            # print (\"value: \", iTr, ic, dbscan.labels_[ic], min(dbscan.labels_), max(dbscan.labels_))\n",
    "            yc = points[:,1][dbscan.labels_==ic]\n",
    "            xc = points[:,0][dbscan.labels_==ic]\n",
    "            ph, dim = cy.cluster_par(yc, xc, rebin_image)\n",
    "            width, height, pearson = cy.confidence_ellipse_par(yc,xc)\n",
    "            for j in range(0, dim):\n",
    "                x=int(xc[j])\n",
    "                y=int(yc[j])\n",
    "                #ph += rebin_image[y,x]\n",
    "                if j == 0:\n",
    "                    x0start = x\n",
    "                    y0start = y\n",
    "            x0end = x\n",
    "            y0end = y\n",
    "            data_to_save.append([iTr, ic, dim, ph, ph/dim, \n",
    "                                 x0start, y0start, x0end, y0end, width, height, pearson])\n",
    "\n",
    "    np.savetxt(files, data_to_save, fmt='%.10e', delimiter=\" \")\n",
    "    print (\"out file\", files)\n",
    "\n",
    "        \n"
   ]
  },
  {
   "cell_type": "code",
   "execution_count": 16,
   "metadata": {},
   "outputs": [
    {
     "data": {
      "text/plain": [
       "576.0"
      ]
     },
     "execution_count": 16,
     "metadata": {},
     "output_type": "execute_result"
    }
   ],
   "source": [
    "2304/4"
   ]
  },
  {
   "cell_type": "code",
   "execution_count": null,
   "metadata": {},
   "outputs": [],
   "source": []
  }
 ],
 "metadata": {
  "kernelspec": {
   "display_name": "Python 3",
   "language": "python",
   "name": "python3"
  },
  "language_info": {
   "codemirror_mode": {
    "name": "ipython",
    "version": 3
   },
   "file_extension": ".py",
   "mimetype": "text/x-python",
   "name": "python",
   "nbconvert_exporter": "python",
   "pygments_lexer": "ipython3",
   "version": "3.6.8"
  }
 },
 "nbformat": 4,
 "nbformat_minor": 2
}
